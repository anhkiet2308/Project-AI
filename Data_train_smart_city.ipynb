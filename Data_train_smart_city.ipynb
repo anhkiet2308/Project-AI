{
  "nbformat": 4,
  "nbformat_minor": 0,
  "metadata": {
    "colab": {
      "provenance": [],
      "mount_file_id": "1M80KmKSScSsC2HajUgjuYGKKlzXgQAZV",
      "authorship_tag": "ABX9TyPQJ/DS2ocRyCJ2kX8qjClP",
      "include_colab_link": true
    },
    "kernelspec": {
      "name": "python3",
      "display_name": "Python 3"
    },
    "language_info": {
      "name": "python"
    },
    "accelerator": "GPU",
    "gpuClass": "standard"
  },
  "cells": [
    {
      "cell_type": "markdown",
      "metadata": {
        "id": "view-in-github",
        "colab_type": "text"
      },
      "source": [
        "<a href=\"https://colab.research.google.com/github/anhkiet2308/Project-AI/blob/Object-recognition-for-smart-cities---Project-final/Data_train_smart_city.ipynb\" target=\"_parent\"><img src=\"https://colab.research.google.com/assets/colab-badge.svg\" alt=\"Open In Colab\"/></a>"
      ]
    },
    {
      "cell_type": "code",
      "execution_count": null,
      "metadata": {
        "colab": {
          "base_uri": "https://localhost:8080/"
        },
        "id": "B2KF_FhXpzCb",
        "outputId": "1de8d05d-411c-4d3e-a4c6-77b805f23c1b"
      },
      "outputs": [
        {
          "output_type": "stream",
          "name": "stdout",
          "text": [
            "(728, 128, 128, 3) (728,)\n"
          ]
        }
      ],
      "source": [
        "from os import listdir\n",
        "from numpy import asarray,save\n",
        "from keras.utils import load_img,img_to_array\n",
        "folder='/content/drive/MyDrive/train_ai_final_smart_city/'\n",
        "photos,labels=list(),list()\n",
        "for file in listdir(folder):\n",
        "  output=0.0\n",
        "  if file.startswith('xe_dap'):\n",
        "    output=1.0\n",
        "  if file.startswith('xe_may'):\n",
        "    output=2.0\n",
        "  if file.startswith('oto'):\n",
        "    output=3.0\n",
        "  if file.startswith('xe_tai'):\n",
        "    output=4.0\n",
        "  if file.startswith('xe_khach'):\n",
        "    output=5.0\n",
        "  if file.startswith('xe_ut'):\n",
        "    output=6.0\n",
        "  if file.startswith('tau_dien'):\n",
        "    output=7.0\n",
        "  if file.startswith('xe_bus'):\n",
        "    output=8.0\n",
        "  if file.startswith('tau_thuy'):\n",
        "    output=9.0\n",
        "  if file.startswith('may_bay_tm'):\n",
        "    output=10.0\n",
        "  if file.startswith('may_bay_qs'):\n",
        "    output=11.0\n",
        "  if file.startswith('may_bay_tt'):\n",
        "    output=12.0\n",
        "  if file.startswith('nguoi'):\n",
        "    output=13.0\n",
        "  if file.startswith('cho'):\n",
        "    output=14.0\n",
        "  if file.startswith('meo'):\n",
        "    output=15.0\n",
        "  if file.startswith('nha'):\n",
        "    output=16.0\n",
        "  if file.startswith('vach'):\n",
        "    output=17.0\n",
        "  if file.startswith('den'):\n",
        "    output=18.0\n",
        "  if file.startswith('den_duong'):\n",
        "    output=19.0\n",
        "  if file.startswith('rac'):\n",
        "    output=20.0\n",
        "  if file.startswith('bien_bao'):\n",
        "    output=21.0\n",
        "  photo = load_img(folder+file,target_size=(128,128))\n",
        "  photo = img_to_array(photo)\n",
        "  photos.append(photo)\n",
        "  labels.append(output)\n",
        "photos=asarray(photos)\n",
        "labels=asarray(labels)\n",
        "print(photos.shape,labels.shape)\n",
        "save('drive/MyDrive/data_train_smart_city_photos.npy',photos)\n",
        "save('drive/MyDrive/data_train_smart_city_labels.npy',labels)"
      ]
    },
    {
      "cell_type": "code",
      "source": [
        "from google.colab import drive\n",
        "drive.mount('/content/drive')"
      ],
      "metadata": {
        "colab": {
          "base_uri": "https://localhost:8080/"
        },
        "id": "Go89dBBnp3rY",
        "outputId": "ed72f96c-30cf-4780-938c-eea56c145c50"
      },
      "execution_count": null,
      "outputs": [
        {
          "output_type": "stream",
          "name": "stdout",
          "text": [
            "Mounted at /content/drive\n"
          ]
        }
      ]
    }
  ]
}